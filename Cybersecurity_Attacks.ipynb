{
 "cells": [
  {
   "cell_type": "markdown",
   "id": "b53c8636",
   "metadata": {},
   "source": [
    "# Cyber Attacks Classification\n",
    "Author : Muhammad Yousif \n",
    "\n",
    "Contact : hellomyousif@gmail.com"
   ]
  },
  {
   "cell_type": "markdown",
   "id": "572b74e6",
   "metadata": {},
   "source": [
    "### Importing libraries"
   ]
  },
  {
   "cell_type": "code",
   "execution_count": 1,
   "id": "a6fea5ea",
   "metadata": {},
   "outputs": [],
   "source": [
    "# importing libraries\n",
    "import pandas as pd\n",
    "import numpy as np\n",
    "import seaborn as sns"
   ]
  },
  {
   "cell_type": "markdown",
   "id": "31c776de",
   "metadata": {},
   "source": [
    "### Loading dataset"
   ]
  },
  {
   "cell_type": "code",
   "execution_count": 2,
   "id": "73fcc897",
   "metadata": {},
   "outputs": [
    {
     "data": {
      "text/html": [
       "<div>\n",
       "<style scoped>\n",
       "    .dataframe tbody tr th:only-of-type {\n",
       "        vertical-align: middle;\n",
       "    }\n",
       "\n",
       "    .dataframe tbody tr th {\n",
       "        vertical-align: top;\n",
       "    }\n",
       "\n",
       "    .dataframe thead th {\n",
       "        text-align: right;\n",
       "    }\n",
       "</style>\n",
       "<table border=\"1\" class=\"dataframe\">\n",
       "  <thead>\n",
       "    <tr style=\"text-align: right;\">\n",
       "      <th></th>\n",
       "      <th>Unnamed: 0</th>\n",
       "      <th>Timestamp</th>\n",
       "      <th>Source IP Address</th>\n",
       "      <th>Destination IP Address</th>\n",
       "      <th>Source Port</th>\n",
       "      <th>Destination Port</th>\n",
       "      <th>Protocol</th>\n",
       "      <th>Packet Length</th>\n",
       "      <th>Packet Type</th>\n",
       "      <th>Traffic Type</th>\n",
       "      <th>...</th>\n",
       "      <th>Action Taken</th>\n",
       "      <th>Severity Level</th>\n",
       "      <th>User Information</th>\n",
       "      <th>Device Information</th>\n",
       "      <th>Network Segment</th>\n",
       "      <th>Geo-location Data</th>\n",
       "      <th>Proxy Information</th>\n",
       "      <th>Firewall Logs</th>\n",
       "      <th>IDS/IPS Alerts</th>\n",
       "      <th>Log Source</th>\n",
       "    </tr>\n",
       "  </thead>\n",
       "  <tbody>\n",
       "    <tr>\n",
       "      <th>0</th>\n",
       "      <td>2</td>\n",
       "      <td>2022-11-13 08:23:25</td>\n",
       "      <td>63.79.210.48</td>\n",
       "      <td>198.219.82.17</td>\n",
       "      <td>16811</td>\n",
       "      <td>53600</td>\n",
       "      <td>UDP</td>\n",
       "      <td>306</td>\n",
       "      <td>Control</td>\n",
       "      <td>HTTP</td>\n",
       "      <td>...</td>\n",
       "      <td>Ignored</td>\n",
       "      <td>Low</td>\n",
       "      <td>Himmat Karpe</td>\n",
       "      <td>Mozilla/5.0 (compatible; MSIE 9.0; Windows NT ...</td>\n",
       "      <td>Segment C</td>\n",
       "      <td>Bokaro, Rajasthan</td>\n",
       "      <td>114.133.48.179</td>\n",
       "      <td>Log Data</td>\n",
       "      <td>Alert Data</td>\n",
       "      <td>Firewall</td>\n",
       "    </tr>\n",
       "    <tr>\n",
       "      <th>1</th>\n",
       "      <td>7</td>\n",
       "      <td>2023-02-12 07:13:17</td>\n",
       "      <td>11.48.99.245</td>\n",
       "      <td>178.157.14.116</td>\n",
       "      <td>34489</td>\n",
       "      <td>20396</td>\n",
       "      <td>ICMP</td>\n",
       "      <td>1022</td>\n",
       "      <td>Data</td>\n",
       "      <td>DNS</td>\n",
       "      <td>...</td>\n",
       "      <td>Logged</td>\n",
       "      <td>High</td>\n",
       "      <td>Yuvaan Dubey</td>\n",
       "      <td>Mozilla/5.0 (Macintosh; U; PPC Mac OS X 10_7_6...</td>\n",
       "      <td>Segment A</td>\n",
       "      <td>Phagwara, Andhra Pradesh</td>\n",
       "      <td>192.31.159.5</td>\n",
       "      <td>Log Data</td>\n",
       "      <td>Alert Data</td>\n",
       "      <td>Firewall</td>\n",
       "    </tr>\n",
       "    <tr>\n",
       "      <th>2</th>\n",
       "      <td>46</td>\n",
       "      <td>2023-05-16 13:01:56</td>\n",
       "      <td>170.211.138.30</td>\n",
       "      <td>172.97.181.148</td>\n",
       "      <td>25022</td>\n",
       "      <td>6593</td>\n",
       "      <td>TCP</td>\n",
       "      <td>554</td>\n",
       "      <td>Control</td>\n",
       "      <td>DNS</td>\n",
       "      <td>...</td>\n",
       "      <td>Blocked</td>\n",
       "      <td>High</td>\n",
       "      <td>Aradhya Kamdar</td>\n",
       "      <td>Mozilla/5.0 (iPod; U; CPU iPhone OS 3_3 like M...</td>\n",
       "      <td>Segment A</td>\n",
       "      <td>Amravati, Kerala</td>\n",
       "      <td>95.170.137.42</td>\n",
       "      <td>Log Data</td>\n",
       "      <td>Alert Data</td>\n",
       "      <td>Firewall</td>\n",
       "    </tr>\n",
       "  </tbody>\n",
       "</table>\n",
       "<p>3 rows × 26 columns</p>\n",
       "</div>"
      ],
      "text/plain": [
       "   Unnamed: 0            Timestamp Source IP Address Destination IP Address  \\\n",
       "0           2  2022-11-13 08:23:25      63.79.210.48          198.219.82.17   \n",
       "1           7  2023-02-12 07:13:17      11.48.99.245         178.157.14.116   \n",
       "2          46  2023-05-16 13:01:56    170.211.138.30         172.97.181.148   \n",
       "\n",
       "   Source Port  Destination Port Protocol  Packet Length Packet Type  \\\n",
       "0        16811             53600      UDP            306     Control   \n",
       "1        34489             20396     ICMP           1022        Data   \n",
       "2        25022              6593      TCP            554     Control   \n",
       "\n",
       "  Traffic Type  ... Action Taken Severity Level  User Information  \\\n",
       "0         HTTP  ...      Ignored            Low      Himmat Karpe   \n",
       "1          DNS  ...       Logged           High      Yuvaan Dubey   \n",
       "2          DNS  ...      Blocked           High    Aradhya Kamdar   \n",
       "\n",
       "                                  Device Information Network Segment  \\\n",
       "0  Mozilla/5.0 (compatible; MSIE 9.0; Windows NT ...       Segment C   \n",
       "1  Mozilla/5.0 (Macintosh; U; PPC Mac OS X 10_7_6...       Segment A   \n",
       "2  Mozilla/5.0 (iPod; U; CPU iPhone OS 3_3 like M...       Segment A   \n",
       "\n",
       "          Geo-location Data Proxy Information Firewall Logs IDS/IPS Alerts  \\\n",
       "0         Bokaro, Rajasthan    114.133.48.179      Log Data     Alert Data   \n",
       "1  Phagwara, Andhra Pradesh      192.31.159.5      Log Data     Alert Data   \n",
       "2          Amravati, Kerala     95.170.137.42      Log Data     Alert Data   \n",
       "\n",
       "  Log Source  \n",
       "0   Firewall  \n",
       "1   Firewall  \n",
       "2   Firewall  \n",
       "\n",
       "[3 rows x 26 columns]"
      ]
     },
     "execution_count": 2,
     "metadata": {},
     "output_type": "execute_result"
    }
   ],
   "source": [
    "# Loading dataset\n",
    "df = pd.read_csv('cybersecurity_attacks_clean.csv')\n",
    "df.head(3)"
   ]
  },
  {
   "cell_type": "code",
   "execution_count": 3,
   "id": "55f30ce2",
   "metadata": {},
   "outputs": [],
   "source": [
    "# drop null values from data\n",
    "df.drop(columns='Unnamed: 0',inplace=True,axis=1)"
   ]
  },
  {
   "cell_type": "code",
   "execution_count": 4,
   "id": "8df54632",
   "metadata": {},
   "outputs": [
    {
     "data": {
      "text/html": [
       "<div>\n",
       "<style scoped>\n",
       "    .dataframe tbody tr th:only-of-type {\n",
       "        vertical-align: middle;\n",
       "    }\n",
       "\n",
       "    .dataframe tbody tr th {\n",
       "        vertical-align: top;\n",
       "    }\n",
       "\n",
       "    .dataframe thead th {\n",
       "        text-align: right;\n",
       "    }\n",
       "</style>\n",
       "<table border=\"1\" class=\"dataframe\">\n",
       "  <thead>\n",
       "    <tr style=\"text-align: right;\">\n",
       "      <th></th>\n",
       "      <th>Source Port</th>\n",
       "      <th>Destination Port</th>\n",
       "      <th>Packet Length</th>\n",
       "      <th>Anomaly Scores</th>\n",
       "    </tr>\n",
       "  </thead>\n",
       "  <tbody>\n",
       "    <tr>\n",
       "      <th>count</th>\n",
       "      <td>1237.000000</td>\n",
       "      <td>1237.000000</td>\n",
       "      <td>1237.000000</td>\n",
       "      <td>1237.000000</td>\n",
       "    </tr>\n",
       "    <tr>\n",
       "      <th>mean</th>\n",
       "      <td>33930.291027</td>\n",
       "      <td>33388.203719</td>\n",
       "      <td>784.832660</td>\n",
       "      <td>50.048593</td>\n",
       "    </tr>\n",
       "    <tr>\n",
       "      <th>std</th>\n",
       "      <td>18731.627558</td>\n",
       "      <td>18599.370814</td>\n",
       "      <td>419.686322</td>\n",
       "      <td>28.754095</td>\n",
       "    </tr>\n",
       "    <tr>\n",
       "      <th>min</th>\n",
       "      <td>1109.000000</td>\n",
       "      <td>1041.000000</td>\n",
       "      <td>64.000000</td>\n",
       "      <td>0.030000</td>\n",
       "    </tr>\n",
       "    <tr>\n",
       "      <th>25%</th>\n",
       "      <td>17763.000000</td>\n",
       "      <td>17240.000000</td>\n",
       "      <td>416.000000</td>\n",
       "      <td>26.970000</td>\n",
       "    </tr>\n",
       "    <tr>\n",
       "      <th>50%</th>\n",
       "      <td>35259.000000</td>\n",
       "      <td>33574.000000</td>\n",
       "      <td>791.000000</td>\n",
       "      <td>48.990000</td>\n",
       "    </tr>\n",
       "    <tr>\n",
       "      <th>75%</th>\n",
       "      <td>50057.000000</td>\n",
       "      <td>49881.000000</td>\n",
       "      <td>1159.000000</td>\n",
       "      <td>75.170000</td>\n",
       "    </tr>\n",
       "    <tr>\n",
       "      <th>max</th>\n",
       "      <td>65493.000000</td>\n",
       "      <td>65451.000000</td>\n",
       "      <td>1500.000000</td>\n",
       "      <td>99.980000</td>\n",
       "    </tr>\n",
       "  </tbody>\n",
       "</table>\n",
       "</div>"
      ],
      "text/plain": [
       "        Source Port  Destination Port  Packet Length  Anomaly Scores\n",
       "count   1237.000000       1237.000000    1237.000000     1237.000000\n",
       "mean   33930.291027      33388.203719     784.832660       50.048593\n",
       "std    18731.627558      18599.370814     419.686322       28.754095\n",
       "min     1109.000000       1041.000000      64.000000        0.030000\n",
       "25%    17763.000000      17240.000000     416.000000       26.970000\n",
       "50%    35259.000000      33574.000000     791.000000       48.990000\n",
       "75%    50057.000000      49881.000000    1159.000000       75.170000\n",
       "max    65493.000000      65451.000000    1500.000000       99.980000"
      ]
     },
     "execution_count": 4,
     "metadata": {},
     "output_type": "execute_result"
    }
   ],
   "source": [
    "# central tendencies of data\n",
    "df.describe()"
   ]
  },
  {
   "cell_type": "markdown",
   "id": "83fe32e6",
   "metadata": {},
   "source": [
    "### splitting data"
   ]
  },
  {
   "cell_type": "code",
   "execution_count": 5,
   "id": "5939faa7",
   "metadata": {
    "scrolled": true
   },
   "outputs": [],
   "source": [
    "# splitting data\n",
    "X = df.drop(columns=['Action Taken','Timestamp'])"
   ]
  },
  {
   "cell_type": "code",
   "execution_count": 6,
   "id": "ef91de45",
   "metadata": {},
   "outputs": [],
   "source": [
    "# set y axis\n",
    "y = df['Action Taken']"
   ]
  },
  {
   "cell_type": "code",
   "execution_count": 7,
   "id": "c47ecdb1",
   "metadata": {},
   "outputs": [],
   "source": [
    "# encoding input data\n",
    "from sklearn.preprocessing._encoders import OrdinalEncoder\n",
    "OE = OrdinalEncoder()\n",
    "X = OE.fit_transform(X)"
   ]
  },
  {
   "cell_type": "code",
   "execution_count": 8,
   "id": "92c8be6c",
   "metadata": {},
   "outputs": [
    {
     "name": "stdout",
     "output_type": "stream",
     "text": [
      "0 Ignore 1:Logged, 2: Blocked\n"
     ]
    }
   ],
   "source": [
    "# encoding label\n",
    "from sklearn.preprocessing import LabelEncoder\n",
    "encoder = LabelEncoder()\n",
    "y = encoder.fit_transform(y)\n",
    "print(\"0 Ignore 1:Logged, 2: Blocked\")"
   ]
  },
  {
   "cell_type": "markdown",
   "id": "bef6d91c",
   "metadata": {},
   "source": [
    "### Splitting data into train test sets"
   ]
  },
  {
   "cell_type": "code",
   "execution_count": 9,
   "id": "56c1c69e",
   "metadata": {},
   "outputs": [],
   "source": [
    "# Splitting data into train test sets\n",
    "from sklearn.model_selection import train_test_split\n",
    "X_train, y_train,X_test, y_test = train_test_split(X,y,test_size=0.2)"
   ]
  },
  {
   "cell_type": "markdown",
   "id": "6531bde1",
   "metadata": {},
   "source": [
    "### Defining the model"
   ]
  },
  {
   "cell_type": "code",
   "execution_count": 10,
   "id": "79e6408a",
   "metadata": {},
   "outputs": [],
   "source": [
    "# defining the model\n",
    "from sklearn.svm import SVC\n",
    "from sklearn.neighbors import KNeighborsClassifier\n",
    "from sklearn.naive_bayes import GaussianNB\n",
    "from sklearn.tree import DecisionTreeClassifier\n",
    "from sklearn.ensemble import RandomForestClassifier\n",
    "from sklearn.ensemble import GradientBoostingClassifier\n",
    "from sklearn.neural_network import MLPClassifier\n",
    "from sklearn.metrics import accuracy_score"
   ]
  },
  {
   "cell_type": "markdown",
   "id": "f4926a07",
   "metadata": {},
   "source": [
    "### Fitting the SVM Classifier"
   ]
  },
  {
   "cell_type": "code",
   "execution_count": 11,
   "id": "1639612a",
   "metadata": {},
   "outputs": [
    {
     "name": "stdout",
     "output_type": "stream",
     "text": [
      "SVM Model's Accuracy Score :47.0 %\n"
     ]
    }
   ],
   "source": [
    "svm_model = SVC()\n",
    "svm_model.fit(X,y)\n",
    "pred = svm_model.predict(X)\n",
    "accuracy = accuracy_score(pred,y)\n",
    "print(f\"SVM Model's Accuracy Score :{round(accuracy,2)*100} %\")"
   ]
  },
  {
   "cell_type": "markdown",
   "id": "8f90f663",
   "metadata": {},
   "source": [
    "### Fitting the KNN Classifier"
   ]
  },
  {
   "cell_type": "code",
   "execution_count": 12,
   "id": "dc7e6ab5",
   "metadata": {},
   "outputs": [
    {
     "name": "stdout",
     "output_type": "stream",
     "text": [
      "KNN Model's Accuracy Score :62.0 %\n"
     ]
    }
   ],
   "source": [
    "knn_model = KNeighborsClassifier(n_neighbors=3)\n",
    "knn_model.fit(X,y)\n",
    "pred = knn_model.predict(X)\n",
    "accuracy = accuracy_score(pred,y)\n",
    "print(f\"KNN Model's Accuracy Score :{round(accuracy,2)*100} %\")"
   ]
  },
  {
   "cell_type": "markdown",
   "id": "07daa5b3",
   "metadata": {},
   "source": [
    "### Fitting the Gaussian Naive Bayes Classifier"
   ]
  },
  {
   "cell_type": "code",
   "execution_count": 13,
   "id": "35a02beb",
   "metadata": {},
   "outputs": [
    {
     "name": "stdout",
     "output_type": "stream",
     "text": [
      "Naive Bayes Model's Accuracy Score :39.0 %\n"
     ]
    }
   ],
   "source": [
    "nb_model = GaussianNB()\n",
    "nb_model.fit(X,y)\n",
    "pred = nb_model.predict(X)\n",
    "accuracy = accuracy_score(pred,y)\n",
    "print(f\"Naive Bayes Model's Accuracy Score :{round(accuracy,2)*100} %\")"
   ]
  },
  {
   "cell_type": "markdown",
   "id": "a4b9c932",
   "metadata": {},
   "source": [
    "### Fitting the Randome forest Classifier"
   ]
  },
  {
   "cell_type": "code",
   "execution_count": 14,
   "id": "d66d5377",
   "metadata": {},
   "outputs": [
    {
     "name": "stdout",
     "output_type": "stream",
     "text": [
      "Randome Forest Model's Accuracy Score :81.0 %\n"
     ]
    }
   ],
   "source": [
    "rfc_model = RandomForestClassifier(n_estimators=24,criterion='log_loss',max_depth=7,min_samples_split=3)\n",
    "rfc_model.fit(X,y)\n",
    "pred = rfc_model.predict(X)\n",
    "accuracy = accuracy_score(pred,y)\n",
    "print(f\"Randome Forest Model's Accuracy Score :{round(accuracy,2)*100} %\")"
   ]
  },
  {
   "cell_type": "markdown",
   "id": "faf8450a",
   "metadata": {},
   "source": [
    "### Fitting the Gradient boosting Classifier"
   ]
  },
  {
   "cell_type": "code",
   "execution_count": 15,
   "id": "32f6e8f3",
   "metadata": {},
   "outputs": [
    {
     "name": "stdout",
     "output_type": "stream",
     "text": [
      "Gradient Boosting Model's Accuracy Score :85.0 %\n"
     ]
    }
   ],
   "source": [
    "gbc_model = GradientBoostingClassifier()\n",
    "gbc_model.fit(X,y)\n",
    "pred = gbc_model.predict(X)\n",
    "accuracy = accuracy_score(pred,y)\n",
    "print(f\"Gradient Boosting Model's Accuracy Score :{round(accuracy,2)*100} %\")"
   ]
  },
  {
   "cell_type": "markdown",
   "id": "654f0ad2",
   "metadata": {},
   "source": [
    "### Savin the model"
   ]
  },
  {
   "cell_type": "code",
   "execution_count": 20,
   "id": "06c1ff21",
   "metadata": {},
   "outputs": [],
   "source": [
    "import pickle\n",
    "filename = 'Cybersecurity_attacks_classification.sav'\n",
    "pickle.dump(gbc_model, open(filename, 'wb'))"
   ]
  },
  {
   "cell_type": "code",
   "execution_count": null,
   "id": "5c96e4b6",
   "metadata": {},
   "outputs": [],
   "source": []
  }
 ],
 "metadata": {
  "kernelspec": {
   "display_name": "Python 3 (ipykernel)",
   "language": "python",
   "name": "python3"
  },
  "language_info": {
   "codemirror_mode": {
    "name": "ipython",
    "version": 3
   },
   "file_extension": ".py",
   "mimetype": "text/x-python",
   "name": "python",
   "nbconvert_exporter": "python",
   "pygments_lexer": "ipython3",
   "version": "3.11.5"
  }
 },
 "nbformat": 4,
 "nbformat_minor": 5
}
